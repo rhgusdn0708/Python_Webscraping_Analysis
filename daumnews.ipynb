{
 "cells": [
  {
   "cell_type": "code",
   "execution_count": 12,
   "id": "63233f4d",
   "metadata": {},
   "outputs": [
    {
     "name": "stdout",
     "output_type": "stream",
     "text": [
      "1. 제목: [이슈ON] 마은혁 받고 '윤 절친' 이완규 투입...한덕수는 왜?\n",
      "   링크: https://v.daum.net/v/20250408172845794\n",
      "--------------------------------------------------\n",
      "2. 제목: 이러다 진짜 전쟁...트럼프 '104% 관세'에 끝까지 싸운다는 中 [데일리 아시아]\n",
      "   링크: https://v.daum.net/v/20250408171205288\n",
      "--------------------------------------------------\n",
      "3. 제목: 트럼프발 주가폭락에 동아 \"경제적 핵전쟁\" 조선 \"금융위기 후 최악\"\n",
      "   링크: https://v.daum.net/v/20250408161553109\n",
      "--------------------------------------------------\n",
      "4. 제목: 공황과 격변의 판도라 박스가 열리다\n",
      "   링크: https://v.daum.net/v/20250408160526681\n",
      "--------------------------------------------------\n",
      "5. 제목: 해외서 발 뺀 이중항체, 韓 기업들이 이끈다\n",
      "   링크: https://v.daum.net/v/20250408154329660\n",
      "--------------------------------------------------\n",
      "6. 제목: 탄핵 끝났는데 韓경제 ‘봄’은 언제 오나…박근혜 때와 다른 이유\n",
      "   링크: https://v.daum.net/v/20250408153003030\n",
      "--------------------------------------------------\n",
      "7. 제목: 경상수지 흑자행진에도… 한은 “美 관세에 불확실성 확대”\n",
      "   링크: https://v.daum.net/v/20250408152923007\n",
      "--------------------------------------------------\n",
      "8. 제목: 국제유가 하락에 흔들리는 정유업계…실적 먹구름 짙어진다\n",
      "   링크: https://v.daum.net/v/20250408144527816\n",
      "--------------------------------------------------\n",
      "9. 제목: 조양호 한진그룹 선대회장 6주기… ‘45년 항공산업’ 리더십 재조명\n",
      "   링크: https://v.daum.net/v/20250408140753767\n",
      "--------------------------------------------------\n"
     ]
    }
   ],
   "source": [
    "import requests\n",
    "from bs4 import BeautifulSoup\n",
    "\n",
    "# 다음 경제 뉴스 URL\n",
    "url = 'https://news.daum.net/economy'\n",
    "\n",
    "# 웹페이지 요청 (UTF-8 인코딩)\n",
    "response = requests.get(url)\n",
    "response.encoding = 'utf-8'  # 명시적으로 UTF-8 인코딩 설정\n",
    "\n",
    "# 요청 성공 확인\n",
    "if response.status_code == 200:\n",
    "    # BeautifulSoup 객체 생성\n",
    "    soup = BeautifulSoup(response.text, 'html.parser')\n",
    "    \n",
    "    # 뉴스 기사 목록 추출\n",
    "    news_list = soup.select('ul.list_newsheadline2 li')\n",
    "    \n",
    "    # 각 뉴스 기사의 링크와 제목 출력\n",
    "    for index, li_tag in enumerate(news_list, 1):\n",
    "        # 링크 추출\n",
    "        a_tag = li_tag.find('a')\n",
    "        link = a_tag['href']\n",
    "        \n",
    "        # 제목 추출\n",
    "        strong_tag = li_tag.select_one('div.cont_thumb strong.tit_txt')\n",
    "        title = strong_tag.text.strip() if strong_tag else \"제목없음\"\n",
    "        \n",
    "        # 결과 출력\n",
    "        print(f\"{index}. 제목: {title}\")\n",
    "        print(f\"   링크: {link}\")\n",
    "        print(\"-\" * 50)\n",
    "else:\n",
    "    print(f\"페이지 요청 실패. 상태 코드: {response.status_code}\")\n",
    "    "
   ]
  }
 ],
 "metadata": {
  "kernelspec": {
   "display_name": "base",
   "language": "python",
   "name": "python3"
  },
  "language_info": {
   "codemirror_mode": {
    "name": "ipython",
    "version": 3
   },
   "file_extension": ".py",
   "mimetype": "text/x-python",
   "name": "python",
   "nbconvert_exporter": "python",
   "pygments_lexer": "ipython3",
   "version": "3.12.7"
  }
 },
 "nbformat": 4,
 "nbformat_minor": 5
}
